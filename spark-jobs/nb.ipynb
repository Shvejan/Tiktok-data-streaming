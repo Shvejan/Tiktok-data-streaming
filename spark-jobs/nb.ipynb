{
 "cells": [
  {
   "cell_type": "code",
   "execution_count": 27,
   "metadata": {},
   "outputs": [],
   "source": [
    "import pyarrow.parquet as pq\n",
    "from minio import Minio\n",
    "from io import BytesIO\n",
    "import pandas as pd\n",
    "\n",
    "minio_endpoint = \"localhost:8050\"\n",
    "minio_access_key = \"minioaccesskey\"\n",
    "minio_secret_key = \"miniosecretkey\"\n",
    "secure = False\n",
    "\n",
    "minio_client = Minio(\n",
    "    minio_endpoint,\n",
    "    access_key=minio_access_key,\n",
    "    secret_key=minio_secret_key,\n",
    "    secure=secure,\n",
    ")"
   ]
  },
  {
   "cell_type": "code",
   "execution_count": 28,
   "metadata": {},
   "outputs": [],
   "source": [
    "parquet_data = minio_client.get_object(\"query-bucket\", \"db.parquet\")\n",
    "parquet_bytes = BytesIO(parquet_data.read())\n",
    "\n",
    "parquet_table = pd.read_parquet(parquet_bytes)\n"
   ]
  },
  {
   "cell_type": "code",
   "execution_count": 29,
   "metadata": {},
   "outputs": [
    {
     "data": {
      "text/plain": [
       "10"
      ]
     },
     "execution_count": 29,
     "metadata": {},
     "output_type": "execute_result"
    }
   ],
   "source": [
    "len(parquet_table)"
   ]
  },
  {
   "cell_type": "code",
   "execution_count": 5,
   "metadata": {},
   "outputs": [
    {
     "ename": "NameError",
     "evalue": "name 'session' is not defined",
     "output_type": "error",
     "traceback": [
      "\u001b[1;31m---------------------------------------------------------------------------\u001b[0m",
      "\u001b[1;31mNameError\u001b[0m                                 Traceback (most recent call last)",
      "\u001b[1;32mp:\\Tiktok-data-streaming\\spark-jobs\\nb.ipynb Cell 4\u001b[0m line \u001b[0;36m2\n\u001b[0;32m      <a href='vscode-notebook-cell:/p%3A/Tiktok-data-streaming/spark-jobs/nb.ipynb#W3sZmlsZQ%3D%3D?line=0'>1</a>\u001b[0m \u001b[39m# res = session.execute(\"describe table finesse.posts_data\")\u001b[39;00m\n\u001b[1;32m----> <a href='vscode-notebook-cell:/p%3A/Tiktok-data-streaming/spark-jobs/nb.ipynb#W3sZmlsZQ%3D%3D?line=1'>2</a>\u001b[0m res \u001b[39m=\u001b[39m session\u001b[39m.\u001b[39mexecute(\u001b[39m\"\u001b[39m\u001b[39mselect count(*) from finesse.posts_data\u001b[39m\u001b[39m\"\u001b[39m)\n\u001b[0;32m      <a href='vscode-notebook-cell:/p%3A/Tiktok-data-streaming/spark-jobs/nb.ipynb#W3sZmlsZQ%3D%3D?line=2'>3</a>\u001b[0m \u001b[39m# res = session.execute(\"drop table finesse.posts_data\")\u001b[39;00m\n\u001b[0;32m      <a href='vscode-notebook-cell:/p%3A/Tiktok-data-streaming/spark-jobs/nb.ipynb#W3sZmlsZQ%3D%3D?line=4'>5</a>\u001b[0m \u001b[39mfor\u001b[39;00m a \u001b[39min\u001b[39;00m res:\n",
      "\u001b[1;31mNameError\u001b[0m: name 'session' is not defined"
     ]
    }
   ],
   "source": [
    "# res = session.execute(\"describe table finesse.posts_data\")\n",
    "res = session.execute(\"select count(*) from finesse.posts_data\")\n",
    "# res = session.execute(\"drop table finesse.posts_data\")\n",
    "\n",
    "for a in res:\n",
    "    print(a)"
   ]
  },
  {
   "cell_type": "code",
   "execution_count": 8,
   "metadata": {},
   "outputs": [],
   "source": [
    "temp_df=parquet_table                               "
   ]
  },
  {
   "cell_type": "code",
   "execution_count": 9,
   "metadata": {},
   "outputs": [],
   "source": [
    "last_100_rows_reverse = temp_df.tail(100).iloc[::-1]\n",
    "\n",
    "last_100_rows_reverse.to_csv(\"scrapped_data.csv\")"
   ]
  },
  {
   "cell_type": "code",
   "execution_count": 200,
   "metadata": {},
   "outputs": [],
   "source": [
    "raw = \"\"\"shoelover99\\nophelia 🦋\\n·\\n9-17\\nFollow\\n@Checkers and Rally\\'s\\noriginal sound - ophelia 🦋\\n182.3K\\n2164\\n6249\\nhttps://www.tiktok.com/@shoelover99/video/7279888213425098026?is_from_webapp=1&sender_device=pc&web_id=7302317935280113182\\nCopy link\\nComments (2164)\\nCreator videos\\nItsyoBishhhhhhhhhAngie\\n“Did I really ask for that” sent me 😂😂😂\\n9-17Reply\\n13.1K\\nView 16 replies\\n🥀🦇🖤Jordan Dahlia K.🖤🦇🥀\\nNot you asking for a bacon cheeseburger with no bacon instead of just asking for a cheeseburger 😂💕 you crack me up 😂💕🥰\\n9-17Reply\\n4664\\nophelia 🦋 · Creator\\nI know 😂😂😂what was I thinking friend\\n9-17Reply\\n1750\\nView 19 more\\nMmj92\\n😂when the realization hit\\n9-18Reply\\n1382\\nView 1 reply\\nNessaKisner118\\nMy dad asked for a cheeseburger with no cheese one time. 😂😂😂😂 the guy even said “uhhh so a hamburger?”\\n9-17Reply\\n34\\nChrysalis\\n\"is it chustard\"😂😂\\n9-17Reply\\n3576\\nView 13 replies\\n🐥✨Geasychicky\\nThe realization lol\\n9-18Reply\\n927\\nView 2 replies\\nLora\\nThe pause and reset 🤣. Okay, but your dress is gorgeous!!!\\n9-17Reply\\n1401\\nView 3 replies\\nJcdreamgenx\\nI laughed way too hard😂😂😂\\n9-18Reply\\n289\\nView 2 replies\\nCrooked\\nThis reminds me of the time my friend ordered a \"cheeseburger with no cheese\". 😂\\n9-18Reply\\n236\\nView 3 replies\\nMr9K.ttv\\nNow Ma.... 😂😂😂\\n9-17Reply\\n87\\nophelia 🦋 · Creator\\nIt was to much! Hell I’m to much 😂\\n9-18Reply\\n59\\nView 3 more\\nDelaney Shelly\\nI’m crying because this something that would happen to me😂😭\\n9-17Reply\\n283\\nView 1 reply\\n✨ Elle ✨\\nBut even so you’re looking flawless 🥰\\n9-17Reply\\n127\\nophelia 🦋 · Creator\\nI thank you ❤️\\n9-17Reply\\n52\\nView 1 more\\nTenntam\\nI miss checkers. We don’t have one around me\\n9-17Reply\\n62\\nophelia 🦋 · Creator\\nI gotta have it every once and a while 🥰\\n9-17Reply\\n41\\nView 6 more\\nBrandon Bolin\\nMomatot what does your pin say just curious 🥰\\n9-17Reply\\n18\\nView 3 replies\\nElli Ballard\\nThis whole video just cracks me up thank you mamma tot I really needed a laugh today🤣🤣🤣😂😂😂😂\\n9-18Reply\\n29\\nSue Myers\\nI Love your Attitude 😂😂\\n3d ago Reply\\n0\\n🔥Da👑King🔥⭐️\\nYou’re hilarious 😂😂😂😂😂😂😂\\n3d ago Reply\\n1\\nTrump2024\\nI love Rally\\'s we got 3 of them In my city\\n5d ago Reply\\n0\\nAlison Dailey\\nYou look beautiful\\n11-8Reply\\n0\\nKatie\\nOh @Ophelia🤍 bless your heart ❤️we love you 🥰\\n11-7Reply\\n0\"\"\""
   ]
  },
  {
   "cell_type": "code",
   "execution_count": 26,
   "metadata": {},
   "outputs": [],
   "source": [
    "import pandas as pd\n",
    "from datetime import datetime\n",
    "# Specify the path to your Parquet file\n",
    "parquet_file_path = \"db (1).parquet\"\n",
    "\n",
    "# Load the Parquet file into a DataFrame\n",
    "df = pd.read_parquet(parquet_file_path)\n",
    "\n",
    "df = df.iloc[210:310]\n",
    "df.head()\n",
    "df.to_csv(\"scrapped_data.csv\")"
   ]
  },
  {
   "cell_type": "code",
   "execution_count": null,
   "metadata": {},
   "outputs": [],
   "source": []
  }
 ],
 "metadata": {
  "kernelspec": {
   "display_name": "pyenv",
   "language": "python",
   "name": "python3"
  },
  "language_info": {
   "codemirror_mode": {
    "name": "ipython",
    "version": 3
   },
   "file_extension": ".py",
   "mimetype": "text/x-python",
   "name": "python",
   "nbconvert_exporter": "python",
   "pygments_lexer": "ipython3",
   "version": "3.10.1"
  }
 },
 "nbformat": 4,
 "nbformat_minor": 2
}
