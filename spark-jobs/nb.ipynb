{
 "cells": [
  {
   "cell_type": "code",
   "execution_count": 62,
   "metadata": {},
   "outputs": [],
   "source": [
    "import pyarrow.parquet as pq\n",
    "from minio import Minio\n",
    "from io import BytesIO\n",
    "import pandas as pd\n",
    "\n",
    "minio_endpoint = \"localhost:8050\"\n",
    "minio_access_key = \"minioaccesskey\"\n",
    "minio_secret_key = \"miniosecretkey\"\n",
    "secure = False\n",
    "\n",
    "minio_client = Minio(\n",
    "    minio_endpoint,\n",
    "    access_key=minio_access_key,\n",
    "    secret_key=minio_secret_key,\n",
    "    secure=secure,\n",
    ")"
   ]
  },
  {
   "cell_type": "code",
   "execution_count": 63,
   "metadata": {},
   "outputs": [],
   "source": [
    "parquet_data = minio_client.get_object(\"query-bucket\", \"db.parquet\")\n",
    "parquet_bytes = BytesIO(parquet_data.read())\n",
    "\n",
    "parquet_table = pd.read_parquet(parquet_bytes)\n"
   ]
  },
  {
   "cell_type": "code",
   "execution_count": 64,
   "metadata": {},
   "outputs": [
    {
     "data": {
      "text/plain": [
       "90"
      ]
     },
     "execution_count": 64,
     "metadata": {},
     "output_type": "execute_result"
    }
   ],
   "source": [
    "len(parquet_table)"
   ]
  },
  {
   "cell_type": "code",
   "execution_count": 54,
   "metadata": {},
   "outputs": [],
   "source": [
    "new_data={'Account': 'ohjamez', 'URL': 'https://www.tiktok.com/@ohjamez/video/7276682575404387630', 'likes': '74.3K', 'comments': '291', 'saved': '4802', 'Caption': 'Replying to @aleentabel', 'Hashtags': [], 'DateColected': '2023-11-16', 'DatePosted': '9-9', 'RawData': \"ohjamez\\nIG: JettyJamez\\n·\\n9-9\\nFollow\\nReplying to @aleentabel\\noriginal sound - IG: JettyJamez\\n74.3K\\n291\\n4802\\nhttps://www.tiktok.com/@ohjamez/video/7276682575404387630?is_from_webapp=1&sender_device=pc&web_id=73\", 'score': 34}"
   ]
  },
  {
   "cell_type": "code",
   "execution_count": 58,
   "metadata": {},
   "outputs": [
    {
     "data": {
      "text/html": [
       "<div>\n",
       "<style scoped>\n",
       "    .dataframe tbody tr th:only-of-type {\n",
       "        vertical-align: middle;\n",
       "    }\n",
       "\n",
       "    .dataframe tbody tr th {\n",
       "        vertical-align: top;\n",
       "    }\n",
       "\n",
       "    .dataframe thead th {\n",
       "        text-align: right;\n",
       "    }\n",
       "</style>\n",
       "<table border=\"1\" class=\"dataframe\">\n",
       "  <thead>\n",
       "    <tr style=\"text-align: right;\">\n",
       "      <th></th>\n",
       "      <th>Account</th>\n",
       "      <th>URL</th>\n",
       "      <th>likes</th>\n",
       "      <th>comments</th>\n",
       "      <th>saved</th>\n",
       "      <th>Caption</th>\n",
       "      <th>Hashtags</th>\n",
       "      <th>DateColected</th>\n",
       "      <th>DatePosted</th>\n",
       "      <th>RawData</th>\n",
       "      <th>Score</th>\n",
       "      <th>score</th>\n",
       "    </tr>\n",
       "  </thead>\n",
       "  <tbody>\n",
       "    <tr>\n",
       "      <th>0</th>\n",
       "      <td>ohjamez</td>\n",
       "      <td>https://www.tiktok.com/@ohjamez/video/72766825...</td>\n",
       "      <td>74.3K</td>\n",
       "      <td>291</td>\n",
       "      <td>4802</td>\n",
       "      <td>Replying to @aleentabel</td>\n",
       "      <td>[]</td>\n",
       "      <td>2023-11-16</td>\n",
       "      <td>9-9</td>\n",
       "      <td>ohjamez\\nIG: JettyJamez\\n·\\n9-9\\nFollow\\nReply...</td>\n",
       "      <td>NaN</td>\n",
       "      <td>34.0</td>\n",
       "    </tr>\n",
       "  </tbody>\n",
       "</table>\n",
       "</div>"
      ],
      "text/plain": [
       "   Account                                                URL  likes comments  \\\n",
       "0  ohjamez  https://www.tiktok.com/@ohjamez/video/72766825...  74.3K      291   \n",
       "\n",
       "  saved                  Caption Hashtags DateColected DatePosted  \\\n",
       "0  4802  Replying to @aleentabel       []   2023-11-16        9-9   \n",
       "\n",
       "                                             RawData  Score  score  \n",
       "0  ohjamez\\nIG: JettyJamez\\n·\\n9-9\\nFollow\\nReply...    NaN   34.0  "
      ]
     },
     "execution_count": 58,
     "metadata": {},
     "output_type": "execute_result"
    }
   ],
   "source": [
    "temp_df = pd.DataFrame([new_data])\n",
    "parquet_table = pd.concat([parquet_table, temp_df], ignore_index=True)\n",
    "parquet_table.head()"
   ]
  },
  {
   "cell_type": "code",
   "execution_count": null,
   "metadata": {},
   "outputs": [],
   "source": []
  }
 ],
 "metadata": {
  "kernelspec": {
   "display_name": "pyenv",
   "language": "python",
   "name": "python3"
  },
  "language_info": {
   "codemirror_mode": {
    "name": "ipython",
    "version": 3
   },
   "file_extension": ".py",
   "mimetype": "text/x-python",
   "name": "python",
   "nbconvert_exporter": "python",
   "pygments_lexer": "ipython3",
   "version": "3.10.1"
  }
 },
 "nbformat": 4,
 "nbformat_minor": 2
}
